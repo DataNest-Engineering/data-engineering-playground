{
 "cells": [
  {
   "cell_type": "code",
   "execution_count": null,
   "id": "01a26588",
   "metadata": {},
   "outputs": [],
   "source": []
  },
  {
   "cell_type": "code",
   "execution_count": 1,
   "id": "52fc1799",
   "metadata": {},
   "outputs": [],
   "source": [
    "from dataplay.parquet_zip_loader import load_all_parquet_from_zips"
   ]
  },
  {
   "cell_type": "code",
   "execution_count": 2,
   "id": "84bec3fb",
   "metadata": {},
   "outputs": [
    {
     "name": "stdout",
     "output_type": "stream",
     "text": [
      "Zip files found: ['../data/artifacts3/reqid_002.zip', '../data/artifacts3/reqid_003.zip', '../data/artifacts3/reqid_001.zip']\n",
      "Processing ../data/artifacts3/reqid_002.zip...\n",
      "Files in zip: ['reqid_002/', 'reqid_002/1757565217_1757565295.parquet']\n",
      "Processing ../data/artifacts3/reqid_003.zip...\n",
      "Files in zip: ['reqid_003/', 'reqid_003/1757565217_1757565282.parquet', 'reqid_003/1757527232_1757278522.parquet']\n",
      "Processing ../data/artifacts3/reqid_001.zip...\n",
      "Files in zip: ['reqid_001/', 'reqid_001/1757565217_1757565282.parquet', 'reqid_001/1757527256_1757278582_part_002.parquet', 'reqid_001/1757527256_1757278582_part_001.parquet', 'reqid_001/1757565217_1757565295.parquet', 'reqid_001/1757527232_1757278522.parquet']\n",
      "Processing part group 1757527256_1757278582 with files: ['reqid_001/1757527256_1757278582_part_002.parquet', 'reqid_001/1757527256_1757278582_part_001.parquet']\n",
      "(574, 12)\n",
      "   managedObjectId  measuringNodeId       start         end  indicator1_MIN  \\\n",
      "0         10540337         10540337  1743532199  1743532199           65.83   \n",
      "1         10540337         10540337  1743618599  1743618599           76.09   \n",
      "2         10540337         10540337  1743704999  1743704999           67.66   \n",
      "3         10540337         10540337  1743791399  1743791399           83.22   \n",
      "4         10540337         10540337  1743877799  1743877799           78.29   \n",
      "\n",
      "   indicator1_MAX  indicator2_MIN  indicator2_MAX  indicator2_AVG  \\\n",
      "0           65.27            10.0            98.0           55.59   \n",
      "1           54.77            10.0            98.0           57.70   \n",
      "2           66.12            10.0            99.0           50.29   \n",
      "3           80.61            10.0            99.0           58.97   \n",
      "4           66.14            10.0            99.0           59.60   \n",
      "\n",
      "   indicator3_MIN  indicator3_MAX  indicator3_AVG  \n",
      "0            12.0            99.0           54.11  \n",
      "1            10.0            99.0           51.68  \n",
      "2            10.0            98.0           53.25  \n",
      "3            11.0            98.0           49.92  \n",
      "4            10.0            99.0           61.02  \n"
     ]
    }
   ],
   "source": [
    "# Usage\n",
    "artifacts_folder = \"../data/artifacts3\"\n",
    "final_df = load_all_parquet_from_zips(artifacts_folder)\n",
    "print(final_df.shape)\n",
    "print(final_df.head())"
   ]
  },
  {
   "cell_type": "code",
   "execution_count": null,
   "id": "7f362f11",
   "metadata": {},
   "outputs": [],
   "source": []
  }
 ],
 "metadata": {
  "kernelspec": {
   "display_name": "Python 3",
   "language": "python",
   "name": "python3"
  },
  "language_info": {
   "codemirror_mode": {
    "name": "ipython",
    "version": 3
   },
   "file_extension": ".py",
   "mimetype": "text/x-python",
   "name": "python",
   "nbconvert_exporter": "python",
   "pygments_lexer": "ipython3",
   "version": "3.12.10"
  }
 },
 "nbformat": 4,
 "nbformat_minor": 5
}
