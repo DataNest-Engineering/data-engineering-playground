{
 "cells": [
  {
   "cell_type": "code",
   "execution_count": 1,
   "id": "ff742861",
   "metadata": {},
   "outputs": [
    {
     "name": "stdout",
     "output_type": "stream",
     "text": [
      "['training_data1.parquet', 'training_data2.parquet']\n"
     ]
    }
   ],
   "source": [
    "import os\n",
    "import pandas as pd\n",
    "\n",
    "folder = \"../data/artifacts/daterange2\"\n",
    "parquet_files = [f for f in os.listdir(folder) if f.endswith(\".parquet\")]\n",
    "\n",
    "print(parquet_files)"
   ]
  },
  {
   "cell_type": "code",
   "execution_count": 2,
   "id": "7f78c184",
   "metadata": {},
   "outputs": [],
   "source": [
    "dfs = []\n",
    "columns_set = set()\n",
    "for file in parquet_files:\n",
    "    df = pd.read_parquet(os.path.join(folder, file))\n",
    "    dfs.append(df)\n",
    "    columns_set.add(tuple(df.columns))"
   ]
  },
  {
   "cell_type": "code",
   "execution_count": null,
   "id": "64c5838c",
   "metadata": {},
   "outputs": [
    {
     "name": "stdout",
     "output_type": "stream",
     "text": [
      "[          time        TO  sensor1_min  sensor1_max  sensor2_min  sensor2_max  \\\n",
      "0   1743532199  10540337        65.83        65.27        10.00        98.00   \n",
      "1   1743618599  10540337        76.09        54.77        10.00        98.00   \n",
      "2   1743704999  10540337        67.66        66.12        10.00        99.00   \n",
      "3   1743791399  10540337        83.22        80.61        10.00        99.00   \n",
      "4   1743877799  10540337        78.29        66.14        10.00        99.00   \n",
      "..         ...       ...          ...          ...          ...          ...   \n",
      "77  1746728999  10540337        81.77        70.40         9.90        98.01   \n",
      "78  1746728999  10540337        96.03        29.12        10.59        97.39   \n",
      "79  1746815399  10540337        30.57        38.09        10.53        98.79   \n",
      "80  1746815399  10540337        47.62        54.37        10.66        99.02   \n",
      "81  1746815399  10540337        26.44        78.26        11.73        98.66   \n",
      "\n",
      "    sensor2_mean  sensor3_min  sensor3_max  sensor3_mean  \n",
      "0          55.59        12.00        99.00         54.11  \n",
      "1          57.70        10.00        99.00         51.68  \n",
      "2          50.29        10.00        98.00         53.25  \n",
      "3          58.97        11.00        98.00         49.92  \n",
      "4          59.60        10.00        99.00         61.02  \n",
      "..           ...          ...          ...           ...  \n",
      "77         55.41        12.23        99.00         49.45  \n",
      "78         56.05        11.32        98.55         54.28  \n",
      "79         55.84        11.95        98.67         57.80  \n",
      "80         54.12        12.53        98.22         54.21  \n",
      "81         52.69        10.92        98.62         51.60  \n",
      "\n",
      "[82 rows x 10 columns],           time        TO  sensor1_min  sensor1_max  sensor2_min  sensor2_max  \\\n",
      "0   1743532199  10540337        65.83        65.27        10.00        98.00   \n",
      "1   1743618599  10540337        76.09        54.77        10.00        98.00   \n",
      "2   1743704999  10540337        67.66        66.12        10.00        99.00   \n",
      "3   1743791399  10540337        83.22        80.61        10.00        99.00   \n",
      "4   1743877799  10540337        78.29        66.14        10.00        99.00   \n",
      "..         ...       ...          ...          ...          ...          ...   \n",
      "77  1746728999  10540337        81.77        70.40         9.90        98.01   \n",
      "78  1746728999  10540337        96.03        29.12        10.59        97.39   \n",
      "79  1746815399  10540337        30.57        38.09        10.53        98.79   \n",
      "80  1746815399  10540337        47.62        54.37        10.66        99.02   \n",
      "81  1746815399  10540337        26.44        78.26        11.73        98.66   \n",
      "\n",
      "    sensor2_mean  sensor3_min  sensor3_max  sensor3_mean  \n",
      "0          55.59        12.00        99.00         54.11  \n",
      "1          57.70        10.00        99.00         51.68  \n",
      "2          50.29        10.00        98.00         53.25  \n",
      "3          58.97        11.00        98.00         49.92  \n",
      "4          59.60        10.00        99.00         61.02  \n",
      "..           ...          ...          ...           ...  \n",
      "77         55.41        12.23        99.00         49.45  \n",
      "78         56.05        11.32        98.55         54.28  \n",
      "79         55.84        11.95        98.67         57.80  \n",
      "80         54.12        12.53        98.22         54.21  \n",
      "81         52.69        10.92        98.62         51.60  \n",
      "\n",
      "[82 rows x 10 columns]]\n"
     ]
    }
   ],
   "source": [
    "print(dfs)\n",
    "dfs"
   ]
  },
  {
   "cell_type": "code",
   "execution_count": 8,
   "id": "3289a9e1",
   "metadata": {},
   "outputs": [
    {
     "name": "stdout",
     "output_type": "stream",
     "text": [
      "          time        TO  sensor1_min  sensor1_max  sensor2_min  sensor2_max  \\\n",
      "0   1743532199  10540337        65.83        65.27        10.00        98.00   \n",
      "1   1743618599  10540337        76.09        54.77        10.00        98.00   \n",
      "2   1743704999  10540337        67.66        66.12        10.00        99.00   \n",
      "3   1743791399  10540337        83.22        80.61        10.00        99.00   \n",
      "4   1743877799  10540337        78.29        66.14        10.00        99.00   \n",
      "..         ...       ...          ...          ...          ...          ...   \n",
      "77  1746728999  10540337        81.77        70.40         9.90        98.01   \n",
      "78  1746728999  10540337        96.03        29.12        10.59        97.39   \n",
      "79  1746815399  10540337        30.57        38.09        10.53        98.79   \n",
      "80  1746815399  10540337        47.62        54.37        10.66        99.02   \n",
      "81  1746815399  10540337        26.44        78.26        11.73        98.66   \n",
      "\n",
      "    sensor2_mean  sensor3_min  sensor3_max  sensor3_mean  \n",
      "0          55.59        12.00        99.00         54.11  \n",
      "1          57.70        10.00        99.00         51.68  \n",
      "2          50.29        10.00        98.00         53.25  \n",
      "3          58.97        11.00        98.00         49.92  \n",
      "4          59.60        10.00        99.00         61.02  \n",
      "..           ...          ...          ...           ...  \n",
      "77         55.41        12.23        99.00         49.45  \n",
      "78         56.05        11.32        98.55         54.28  \n",
      "79         55.84        11.95        98.67         57.80  \n",
      "80         54.12        12.53        98.22         54.21  \n",
      "81         52.69        10.92        98.62         51.60  \n",
      "\n",
      "[82 rows x 10 columns]\n"
     ]
    }
   ],
   "source": [
    "print(dfs[1])"
   ]
  },
  {
   "cell_type": "code",
   "execution_count": 5,
   "id": "be148961",
   "metadata": {},
   "outputs": [
    {
     "name": "stdout",
     "output_type": "stream",
     "text": [
      "{('time', 'TO', 'sensor1_min', 'sensor1_max', 'sensor2_min', 'sensor2_max', 'sensor2_mean', 'sensor3_min', 'sensor3_max', 'sensor3_mean')}\n"
     ]
    },
    {
     "data": {
      "text/plain": [
       "1"
      ]
     },
     "execution_count": 5,
     "metadata": {},
     "output_type": "execute_result"
    }
   ],
   "source": [
    "print(columns_set)\n",
    "len(columns_set)"
   ]
  },
  {
   "cell_type": "code",
   "execution_count": 6,
   "id": "9e996815",
   "metadata": {},
   "outputs": [
    {
     "name": "stdout",
     "output_type": "stream",
     "text": [
      "(164, 10)\n"
     ]
    }
   ],
   "source": [
    "if len(columns_set) > 1:\n",
    "    raise ValueError(\"Not all files have the same columns!\")\n",
    "\n",
    "combined_df = pd.concat(dfs, ignore_index=True)\n",
    "print(combined_df.shape)\n",
    "# Optionally, save the merged DataFrame\n",
    "combined_df.to_parquet(os.path.join(folder, \"merged_training_data.parquet\"), index=False)"
   ]
  },
  {
   "cell_type": "code",
   "execution_count": null,
   "id": "1908e347",
   "metadata": {},
   "outputs": [],
   "source": [
    "import os\n",
    "import pandas as pd\n",
    "\n",
    "folder = \"../data/artifacts/daterange2\"\n",
    "parquet_files = [f for f in os.listdir(folder) if f.endswith(\".parquet\")]\n",
    "\n",
    "dfs = []\n",
    "columns_set = set()\n",
    "for file in parquet_files:\n",
    "    df = pd.read_parquet(os.path.join(folder, file))\n",
    "    dfs.append(df)\n",
    "    columns_set.add(tuple(df.columns))\n",
    "\n",
    "if len(columns_set) > 1:\n",
    "    raise ValueError(\"Not all files have the same columns!\")\n",
    "\n",
    "combined_df = pd.concat(dfs, ignore_index=True)\n",
    "print(combined_df.shape)\n",
    "# Optionally, save the merged DataFrame\n",
    "combined_df.to_parquet(os.path.join(folder, \"merged_training_data.parquet\"), index=False)"
   ]
  },
  {
   "cell_type": "code",
   "execution_count": 11,
   "id": "38745fdf",
   "metadata": {},
   "outputs": [
    {
     "data": {
      "text/html": [
       "<div>\n",
       "<style scoped>\n",
       "    .dataframe tbody tr th:only-of-type {\n",
       "        vertical-align: middle;\n",
       "    }\n",
       "\n",
       "    .dataframe tbody tr th {\n",
       "        vertical-align: top;\n",
       "    }\n",
       "\n",
       "    .dataframe thead th {\n",
       "        text-align: right;\n",
       "    }\n",
       "</style>\n",
       "<table border=\"1\" class=\"dataframe\">\n",
       "  <thead>\n",
       "    <tr style=\"text-align: right;\">\n",
       "      <th></th>\n",
       "      <th>time</th>\n",
       "      <th>TO</th>\n",
       "      <th>sensor1_min</th>\n",
       "    </tr>\n",
       "  </thead>\n",
       "  <tbody>\n",
       "    <tr>\n",
       "      <th>0</th>\n",
       "      <td>2025-04-01 18:29:59</td>\n",
       "      <td>10540337</td>\n",
       "      <td>65.83</td>\n",
       "    </tr>\n",
       "    <tr>\n",
       "      <th>1</th>\n",
       "      <td>2025-04-02 18:29:59</td>\n",
       "      <td>10540337</td>\n",
       "      <td>76.09</td>\n",
       "    </tr>\n",
       "    <tr>\n",
       "      <th>2</th>\n",
       "      <td>2025-04-03 18:29:59</td>\n",
       "      <td>10540337</td>\n",
       "      <td>67.66</td>\n",
       "    </tr>\n",
       "    <tr>\n",
       "      <th>3</th>\n",
       "      <td>2025-04-04 18:29:59</td>\n",
       "      <td>10540337</td>\n",
       "      <td>83.22</td>\n",
       "    </tr>\n",
       "    <tr>\n",
       "      <th>4</th>\n",
       "      <td>2025-04-05 18:29:59</td>\n",
       "      <td>10540337</td>\n",
       "      <td>78.29</td>\n",
       "    </tr>\n",
       "    <tr>\n",
       "      <th>...</th>\n",
       "      <td>...</td>\n",
       "      <td>...</td>\n",
       "      <td>...</td>\n",
       "    </tr>\n",
       "    <tr>\n",
       "      <th>159</th>\n",
       "      <td>2025-05-08 18:29:59</td>\n",
       "      <td>10540337</td>\n",
       "      <td>81.77</td>\n",
       "    </tr>\n",
       "    <tr>\n",
       "      <th>160</th>\n",
       "      <td>2025-05-08 18:29:59</td>\n",
       "      <td>10540337</td>\n",
       "      <td>96.03</td>\n",
       "    </tr>\n",
       "    <tr>\n",
       "      <th>161</th>\n",
       "      <td>2025-05-09 18:29:59</td>\n",
       "      <td>10540337</td>\n",
       "      <td>30.57</td>\n",
       "    </tr>\n",
       "    <tr>\n",
       "      <th>162</th>\n",
       "      <td>2025-05-09 18:29:59</td>\n",
       "      <td>10540337</td>\n",
       "      <td>47.62</td>\n",
       "    </tr>\n",
       "    <tr>\n",
       "      <th>163</th>\n",
       "      <td>2025-05-09 18:29:59</td>\n",
       "      <td>10540337</td>\n",
       "      <td>26.44</td>\n",
       "    </tr>\n",
       "  </tbody>\n",
       "</table>\n",
       "<p>164 rows × 3 columns</p>\n",
       "</div>"
      ],
      "text/plain": [
       "                   time        TO  sensor1_min\n",
       "0   2025-04-01 18:29:59  10540337        65.83\n",
       "1   2025-04-02 18:29:59  10540337        76.09\n",
       "2   2025-04-03 18:29:59  10540337        67.66\n",
       "3   2025-04-04 18:29:59  10540337        83.22\n",
       "4   2025-04-05 18:29:59  10540337        78.29\n",
       "..                  ...       ...          ...\n",
       "159 2025-05-08 18:29:59  10540337        81.77\n",
       "160 2025-05-08 18:29:59  10540337        96.03\n",
       "161 2025-05-09 18:29:59  10540337        30.57\n",
       "162 2025-05-09 18:29:59  10540337        47.62\n",
       "163 2025-05-09 18:29:59  10540337        26.44\n",
       "\n",
       "[164 rows x 3 columns]"
      ]
     },
     "execution_count": 11,
     "metadata": {},
     "output_type": "execute_result"
    }
   ],
   "source": [
    "# Convert 'time' column to datetime\n",
    "combined_df['time'] = pd.to_datetime(combined_df['time'], unit='s')\n",
    "\n",
    "# Filter columns\n",
    "filtered_df = combined_df[['time', 'TO', 'sensor1_min']]\n",
    "filtered_df"
   ]
  },
  {
   "cell_type": "code",
   "execution_count": 13,
   "id": "d58d6122",
   "metadata": {},
   "outputs": [
    {
     "data": {
      "text/html": [
       "<div>\n",
       "<style scoped>\n",
       "    .dataframe tbody tr th:only-of-type {\n",
       "        vertical-align: middle;\n",
       "    }\n",
       "\n",
       "    .dataframe tbody tr th {\n",
       "        vertical-align: top;\n",
       "    }\n",
       "\n",
       "    .dataframe thead th {\n",
       "        text-align: right;\n",
       "    }\n",
       "</style>\n",
       "<table border=\"1\" class=\"dataframe\">\n",
       "  <thead>\n",
       "    <tr style=\"text-align: right;\">\n",
       "      <th></th>\n",
       "      <th>time</th>\n",
       "      <th>TO</th>\n",
       "      <th>sensor1_min</th>\n",
       "    </tr>\n",
       "  </thead>\n",
       "  <tbody>\n",
       "    <tr>\n",
       "      <th>79</th>\n",
       "      <td>2025-05-09 18:29:59</td>\n",
       "      <td>10540337</td>\n",
       "      <td>30.57</td>\n",
       "    </tr>\n",
       "    <tr>\n",
       "      <th>80</th>\n",
       "      <td>2025-05-09 18:29:59</td>\n",
       "      <td>10540337</td>\n",
       "      <td>47.62</td>\n",
       "    </tr>\n",
       "    <tr>\n",
       "      <th>81</th>\n",
       "      <td>2025-05-09 18:29:59</td>\n",
       "      <td>10540337</td>\n",
       "      <td>26.44</td>\n",
       "    </tr>\n",
       "    <tr>\n",
       "      <th>161</th>\n",
       "      <td>2025-05-09 18:29:59</td>\n",
       "      <td>10540337</td>\n",
       "      <td>30.57</td>\n",
       "    </tr>\n",
       "    <tr>\n",
       "      <th>162</th>\n",
       "      <td>2025-05-09 18:29:59</td>\n",
       "      <td>10540337</td>\n",
       "      <td>47.62</td>\n",
       "    </tr>\n",
       "    <tr>\n",
       "      <th>163</th>\n",
       "      <td>2025-05-09 18:29:59</td>\n",
       "      <td>10540337</td>\n",
       "      <td>26.44</td>\n",
       "    </tr>\n",
       "  </tbody>\n",
       "</table>\n",
       "</div>"
      ],
      "text/plain": [
       "                   time        TO  sensor1_min\n",
       "79  2025-05-09 18:29:59  10540337        30.57\n",
       "80  2025-05-09 18:29:59  10540337        47.62\n",
       "81  2025-05-09 18:29:59  10540337        26.44\n",
       "161 2025-05-09 18:29:59  10540337        30.57\n",
       "162 2025-05-09 18:29:59  10540337        47.62\n",
       "163 2025-05-09 18:29:59  10540337        26.44"
      ]
     },
     "execution_count": 13,
     "metadata": {},
     "output_type": "execute_result"
    }
   ],
   "source": [
    "\n",
    "\n",
    "# Example: filter for rows where time equals a specific datetime\n",
    "target_time = pd.Timestamp(\"2025-05-09 18:29:59\")  # change to your desired time\n",
    "\n",
    "filtered_by_time_df = filtered_df[filtered_df['time'] == target_time]\n",
    "filtered_by_time_df"
   ]
  }
 ],
 "metadata": {
  "kernelspec": {
   "display_name": "genai-env",
   "language": "python",
   "name": "python3"
  },
  "language_info": {
   "codemirror_mode": {
    "name": "ipython",
    "version": 3
   },
   "file_extension": ".py",
   "mimetype": "text/x-python",
   "name": "python",
   "nbconvert_exporter": "python",
   "pygments_lexer": "ipython3",
   "version": "3.10.18"
  }
 },
 "nbformat": 4,
 "nbformat_minor": 5
}
