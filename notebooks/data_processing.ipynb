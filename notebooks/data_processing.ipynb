{
 "cells": [
  {
   "cell_type": "code",
   "execution_count": null,
   "id": "d4c39173",
   "metadata": {},
   "outputs": [],
   "source": [
    "import pandas as pd\n",
    "\n",
    "df = pd.read_parquet('../data/processed/merged_final.parquet')"
   ]
  },
  {
   "cell_type": "code",
   "execution_count": 6,
   "id": "b1c5d44e",
   "metadata": {},
   "outputs": [
    {
     "data": {
      "text/plain": [
       "(460, 10)"
      ]
     },
     "execution_count": 6,
     "metadata": {},
     "output_type": "execute_result"
    }
   ],
   "source": [
    "df.shape"
   ]
  },
  {
   "cell_type": "code",
   "execution_count": 4,
   "id": "7a03faba",
   "metadata": {},
   "outputs": [
    {
     "data": {
      "text/html": [
       "<div>\n",
       "<style scoped>\n",
       "    .dataframe tbody tr th:only-of-type {\n",
       "        vertical-align: middle;\n",
       "    }\n",
       "\n",
       "    .dataframe tbody tr th {\n",
       "        vertical-align: top;\n",
       "    }\n",
       "\n",
       "    .dataframe thead th {\n",
       "        text-align: right;\n",
       "    }\n",
       "</style>\n",
       "<table border=\"1\" class=\"dataframe\">\n",
       "  <thead>\n",
       "    <tr style=\"text-align: right;\">\n",
       "      <th></th>\n",
       "      <th>time</th>\n",
       "      <th>TO</th>\n",
       "      <th>sensor1_min</th>\n",
       "      <th>sensor1_max</th>\n",
       "      <th>sensor2_min</th>\n",
       "      <th>sensor2_max</th>\n",
       "      <th>sensor2_mean</th>\n",
       "      <th>sensor3_min</th>\n",
       "      <th>sensor3_max</th>\n",
       "      <th>sensor3_mean</th>\n",
       "    </tr>\n",
       "  </thead>\n",
       "  <tbody>\n",
       "    <tr>\n",
       "      <th>0</th>\n",
       "      <td>1743532199</td>\n",
       "      <td>10540337</td>\n",
       "      <td>65.83</td>\n",
       "      <td>65.27</td>\n",
       "      <td>10.0</td>\n",
       "      <td>98.0</td>\n",
       "      <td>55.59</td>\n",
       "      <td>12.0</td>\n",
       "      <td>99.0</td>\n",
       "      <td>54.11</td>\n",
       "    </tr>\n",
       "    <tr>\n",
       "      <th>1</th>\n",
       "      <td>1743618599</td>\n",
       "      <td>10540337</td>\n",
       "      <td>76.09</td>\n",
       "      <td>54.77</td>\n",
       "      <td>10.0</td>\n",
       "      <td>98.0</td>\n",
       "      <td>57.70</td>\n",
       "      <td>10.0</td>\n",
       "      <td>99.0</td>\n",
       "      <td>51.68</td>\n",
       "    </tr>\n",
       "    <tr>\n",
       "      <th>2</th>\n",
       "      <td>1743704999</td>\n",
       "      <td>10540337</td>\n",
       "      <td>67.66</td>\n",
       "      <td>66.12</td>\n",
       "      <td>10.0</td>\n",
       "      <td>99.0</td>\n",
       "      <td>50.29</td>\n",
       "      <td>10.0</td>\n",
       "      <td>98.0</td>\n",
       "      <td>53.25</td>\n",
       "    </tr>\n",
       "    <tr>\n",
       "      <th>3</th>\n",
       "      <td>1743791399</td>\n",
       "      <td>10540337</td>\n",
       "      <td>83.22</td>\n",
       "      <td>80.61</td>\n",
       "      <td>10.0</td>\n",
       "      <td>99.0</td>\n",
       "      <td>58.97</td>\n",
       "      <td>11.0</td>\n",
       "      <td>98.0</td>\n",
       "      <td>49.92</td>\n",
       "    </tr>\n",
       "    <tr>\n",
       "      <th>4</th>\n",
       "      <td>1743877799</td>\n",
       "      <td>10540337</td>\n",
       "      <td>78.29</td>\n",
       "      <td>66.14</td>\n",
       "      <td>10.0</td>\n",
       "      <td>99.0</td>\n",
       "      <td>59.60</td>\n",
       "      <td>10.0</td>\n",
       "      <td>99.0</td>\n",
       "      <td>61.02</td>\n",
       "    </tr>\n",
       "  </tbody>\n",
       "</table>\n",
       "</div>"
      ],
      "text/plain": [
       "         time        TO  sensor1_min  sensor1_max  sensor2_min  sensor2_max  \\\n",
       "0  1743532199  10540337        65.83        65.27         10.0         98.0   \n",
       "1  1743618599  10540337        76.09        54.77         10.0         98.0   \n",
       "2  1743704999  10540337        67.66        66.12         10.0         99.0   \n",
       "3  1743791399  10540337        83.22        80.61         10.0         99.0   \n",
       "4  1743877799  10540337        78.29        66.14         10.0         99.0   \n",
       "\n",
       "   sensor2_mean  sensor3_min  sensor3_max  sensor3_mean  \n",
       "0         55.59         12.0         99.0         54.11  \n",
       "1         57.70         10.0         99.0         51.68  \n",
       "2         50.29         10.0         98.0         53.25  \n",
       "3         58.97         11.0         98.0         49.92  \n",
       "4         59.60         10.0         99.0         61.02  "
      ]
     },
     "execution_count": 4,
     "metadata": {},
     "output_type": "execute_result"
    }
   ],
   "source": [
    "df.head()"
   ]
  },
  {
   "cell_type": "code",
   "execution_count": null,
   "id": "ab3a2407",
   "metadata": {},
   "outputs": [],
   "source": [
    "### Task1: Remove specific rows where TO is 10540337 and time is in a given list\n",
    "# Define the list of time values to exclude for TO == 10540337\n"
   ]
  },
  {
   "cell_type": "code",
   "execution_count": 16,
   "id": "7e76ac83",
   "metadata": {},
   "outputs": [
    {
     "data": {
      "text/html": [
       "<div>\n",
       "<style scoped>\n",
       "    .dataframe tbody tr th:only-of-type {\n",
       "        vertical-align: middle;\n",
       "    }\n",
       "\n",
       "    .dataframe tbody tr th {\n",
       "        vertical-align: top;\n",
       "    }\n",
       "\n",
       "    .dataframe thead th {\n",
       "        text-align: right;\n",
       "    }\n",
       "</style>\n",
       "<table border=\"1\" class=\"dataframe\">\n",
       "  <thead>\n",
       "    <tr style=\"text-align: right;\">\n",
       "      <th></th>\n",
       "      <th>time</th>\n",
       "      <th>TO</th>\n",
       "      <th>sensor1_min</th>\n",
       "      <th>sensor1_max</th>\n",
       "      <th>sensor2_min</th>\n",
       "      <th>sensor2_max</th>\n",
       "      <th>sensor2_mean</th>\n",
       "      <th>sensor3_min</th>\n",
       "      <th>sensor3_max</th>\n",
       "      <th>sensor3_mean</th>\n",
       "    </tr>\n",
       "  </thead>\n",
       "  <tbody>\n",
       "    <tr>\n",
       "      <th>1</th>\n",
       "      <td>1743618599</td>\n",
       "      <td>10540337</td>\n",
       "      <td>76.09</td>\n",
       "      <td>54.77</td>\n",
       "      <td>10.0</td>\n",
       "      <td>98.0</td>\n",
       "      <td>57.70</td>\n",
       "      <td>10.0</td>\n",
       "      <td>99.0</td>\n",
       "      <td>51.68</td>\n",
       "    </tr>\n",
       "    <tr>\n",
       "      <th>3</th>\n",
       "      <td>1743791399</td>\n",
       "      <td>10540337</td>\n",
       "      <td>83.22</td>\n",
       "      <td>80.61</td>\n",
       "      <td>10.0</td>\n",
       "      <td>99.0</td>\n",
       "      <td>58.97</td>\n",
       "      <td>11.0</td>\n",
       "      <td>98.0</td>\n",
       "      <td>49.92</td>\n",
       "    </tr>\n",
       "    <tr>\n",
       "      <th>4</th>\n",
       "      <td>1743877799</td>\n",
       "      <td>10540337</td>\n",
       "      <td>78.29</td>\n",
       "      <td>66.14</td>\n",
       "      <td>10.0</td>\n",
       "      <td>99.0</td>\n",
       "      <td>59.60</td>\n",
       "      <td>10.0</td>\n",
       "      <td>99.0</td>\n",
       "      <td>61.02</td>\n",
       "    </tr>\n",
       "    <tr>\n",
       "      <th>5</th>\n",
       "      <td>1743964199</td>\n",
       "      <td>10540337</td>\n",
       "      <td>73.78</td>\n",
       "      <td>73.39</td>\n",
       "      <td>10.0</td>\n",
       "      <td>98.0</td>\n",
       "      <td>55.03</td>\n",
       "      <td>12.0</td>\n",
       "      <td>99.0</td>\n",
       "      <td>49.74</td>\n",
       "    </tr>\n",
       "    <tr>\n",
       "      <th>6</th>\n",
       "      <td>1744050599</td>\n",
       "      <td>10540337</td>\n",
       "      <td>67.30</td>\n",
       "      <td>48.00</td>\n",
       "      <td>10.0</td>\n",
       "      <td>98.0</td>\n",
       "      <td>54.06</td>\n",
       "      <td>11.0</td>\n",
       "      <td>98.0</td>\n",
       "      <td>54.38</td>\n",
       "    </tr>\n",
       "  </tbody>\n",
       "</table>\n",
       "</div>"
      ],
      "text/plain": [
       "         time        TO  sensor1_min  sensor1_max  sensor2_min  sensor2_max  \\\n",
       "1  1743618599  10540337        76.09        54.77         10.0         98.0   \n",
       "3  1743791399  10540337        83.22        80.61         10.0         99.0   \n",
       "4  1743877799  10540337        78.29        66.14         10.0         99.0   \n",
       "5  1743964199  10540337        73.78        73.39         10.0         98.0   \n",
       "6  1744050599  10540337        67.30        48.00         10.0         98.0   \n",
       "\n",
       "   sensor2_mean  sensor3_min  sensor3_max  sensor3_mean  \n",
       "1         57.70         10.0         99.0         51.68  \n",
       "3         58.97         11.0         98.0         49.92  \n",
       "4         59.60         10.0         99.0         61.02  \n",
       "5         55.03         12.0         99.0         49.74  \n",
       "6         54.06         11.0         98.0         54.38  "
      ]
     },
     "execution_count": 16,
     "metadata": {},
     "output_type": "execute_result"
    }
   ],
   "source": [
    "# Define the list of time values to exclude for TO == 10540337\n",
    "exclude_times = [1743532199, 1743704999]  # example times to exclude\n",
    "\n",
    "# Filter the dataframe\n",
    "df_filtered = df[~((df['TO'] == 10540337) & (df['time'].isin(exclude_times)))]\n",
    "df_filtered.head()"
   ]
  },
  {
   "cell_type": "code",
   "execution_count": 9,
   "id": "b7b644ac",
   "metadata": {},
   "outputs": [
    {
     "data": {
      "text/plain": [
       "(449, 10)"
      ]
     },
     "execution_count": 9,
     "metadata": {},
     "output_type": "execute_result"
    }
   ],
   "source": [
    "df_filtered.shape"
   ]
  },
  {
   "cell_type": "code",
   "execution_count": 17,
   "id": "0f09ff21",
   "metadata": {},
   "outputs": [
    {
     "data": {
      "text/html": [
       "<div>\n",
       "<style scoped>\n",
       "    .dataframe tbody tr th:only-of-type {\n",
       "        vertical-align: middle;\n",
       "    }\n",
       "\n",
       "    .dataframe tbody tr th {\n",
       "        vertical-align: top;\n",
       "    }\n",
       "\n",
       "    .dataframe thead th {\n",
       "        text-align: right;\n",
       "    }\n",
       "</style>\n",
       "<table border=\"1\" class=\"dataframe\">\n",
       "  <thead>\n",
       "    <tr style=\"text-align: right;\">\n",
       "      <th></th>\n",
       "      <th>time</th>\n",
       "      <th>TO</th>\n",
       "      <th>sensor1_min</th>\n",
       "      <th>sensor1_max</th>\n",
       "      <th>sensor2_min</th>\n",
       "      <th>sensor2_max</th>\n",
       "      <th>sensor2_mean</th>\n",
       "      <th>sensor3_min</th>\n",
       "      <th>sensor3_max</th>\n",
       "      <th>sensor3_mean</th>\n",
       "    </tr>\n",
       "  </thead>\n",
       "  <tbody>\n",
       "    <tr>\n",
       "      <th>count</th>\n",
       "      <td>4.490000e+02</td>\n",
       "      <td>4.490000e+02</td>\n",
       "      <td>449.000000</td>\n",
       "      <td>449.000000</td>\n",
       "      <td>449.000000</td>\n",
       "      <td>449.000000</td>\n",
       "      <td>449.000000</td>\n",
       "      <td>449.000000</td>\n",
       "      <td>449.000000</td>\n",
       "      <td>449.000000</td>\n",
       "    </tr>\n",
       "    <tr>\n",
       "      <th>mean</th>\n",
       "      <td>1.745466e+09</td>\n",
       "      <td>1.116987e+07</td>\n",
       "      <td>62.861693</td>\n",
       "      <td>64.141871</td>\n",
       "      <td>10.484076</td>\n",
       "      <td>98.314143</td>\n",
       "      <td>56.508797</td>\n",
       "      <td>10.226837</td>\n",
       "      <td>98.492873</td>\n",
       "      <td>55.053118</td>\n",
       "    </tr>\n",
       "    <tr>\n",
       "      <th>std</th>\n",
       "      <td>9.235815e+05</td>\n",
       "      <td>3.502822e+06</td>\n",
       "      <td>18.154241</td>\n",
       "      <td>18.329286</td>\n",
       "      <td>0.612138</td>\n",
       "      <td>0.757542</td>\n",
       "      <td>4.538295</td>\n",
       "      <td>1.916968</td>\n",
       "      <td>0.602484</td>\n",
       "      <td>3.910690</td>\n",
       "    </tr>\n",
       "    <tr>\n",
       "      <th>min</th>\n",
       "      <td>1.743619e+09</td>\n",
       "      <td>1.003210e+07</td>\n",
       "      <td>20.000000</td>\n",
       "      <td>20.000000</td>\n",
       "      <td>9.720000</td>\n",
       "      <td>96.000000</td>\n",
       "      <td>50.600000</td>\n",
       "      <td>5.000000</td>\n",
       "      <td>96.000000</td>\n",
       "      <td>48.930000</td>\n",
       "    </tr>\n",
       "    <tr>\n",
       "      <th>25%</th>\n",
       "      <td>1.744846e+09</td>\n",
       "      <td>1.003210e+07</td>\n",
       "      <td>51.460000</td>\n",
       "      <td>49.560000</td>\n",
       "      <td>10.000000</td>\n",
       "      <td>98.000000</td>\n",
       "      <td>53.950000</td>\n",
       "      <td>9.560000</td>\n",
       "      <td>98.280000</td>\n",
       "      <td>52.760000</td>\n",
       "    </tr>\n",
       "    <tr>\n",
       "      <th>50%</th>\n",
       "      <td>1.745260e+09</td>\n",
       "      <td>1.054034e+07</td>\n",
       "      <td>62.480000</td>\n",
       "      <td>67.000000</td>\n",
       "      <td>10.240000</td>\n",
       "      <td>98.460000</td>\n",
       "      <td>56.080000</td>\n",
       "      <td>10.310000</td>\n",
       "      <td>98.600000</td>\n",
       "      <td>54.290000</td>\n",
       "    </tr>\n",
       "    <tr>\n",
       "      <th>75%</th>\n",
       "      <td>1.746297e+09</td>\n",
       "      <td>1.054034e+07</td>\n",
       "      <td>78.290000</td>\n",
       "      <td>79.370000</td>\n",
       "      <td>10.830000</td>\n",
       "      <td>99.000000</td>\n",
       "      <td>57.470000</td>\n",
       "      <td>11.390000</td>\n",
       "      <td>99.000000</td>\n",
       "      <td>56.580000</td>\n",
       "    </tr>\n",
       "    <tr>\n",
       "      <th>max</th>\n",
       "      <td>1.747766e+09</td>\n",
       "      <td>3.004501e+07</td>\n",
       "      <td>98.000000</td>\n",
       "      <td>98.000000</td>\n",
       "      <td>12.000000</td>\n",
       "      <td>99.180000</td>\n",
       "      <td>79.400000</td>\n",
       "      <td>14.000000</td>\n",
       "      <td>99.120000</td>\n",
       "      <td>71.600000</td>\n",
       "    </tr>\n",
       "  </tbody>\n",
       "</table>\n",
       "</div>"
      ],
      "text/plain": [
       "               time            TO  sensor1_min  sensor1_max  sensor2_min  \\\n",
       "count  4.490000e+02  4.490000e+02   449.000000   449.000000   449.000000   \n",
       "mean   1.745466e+09  1.116987e+07    62.861693    64.141871    10.484076   \n",
       "std    9.235815e+05  3.502822e+06    18.154241    18.329286     0.612138   \n",
       "min    1.743619e+09  1.003210e+07    20.000000    20.000000     9.720000   \n",
       "25%    1.744846e+09  1.003210e+07    51.460000    49.560000    10.000000   \n",
       "50%    1.745260e+09  1.054034e+07    62.480000    67.000000    10.240000   \n",
       "75%    1.746297e+09  1.054034e+07    78.290000    79.370000    10.830000   \n",
       "max    1.747766e+09  3.004501e+07    98.000000    98.000000    12.000000   \n",
       "\n",
       "       sensor2_max  sensor2_mean  sensor3_min  sensor3_max  sensor3_mean  \n",
       "count   449.000000    449.000000   449.000000   449.000000    449.000000  \n",
       "mean     98.314143     56.508797    10.226837    98.492873     55.053118  \n",
       "std       0.757542      4.538295     1.916968     0.602484      3.910690  \n",
       "min      96.000000     50.600000     5.000000    96.000000     48.930000  \n",
       "25%      98.000000     53.950000     9.560000    98.280000     52.760000  \n",
       "50%      98.460000     56.080000    10.310000    98.600000     54.290000  \n",
       "75%      99.000000     57.470000    11.390000    99.000000     56.580000  \n",
       "max      99.180000     79.400000    14.000000    99.120000     71.600000  "
      ]
     },
     "execution_count": 17,
     "metadata": {},
     "output_type": "execute_result"
    }
   ],
   "source": [
    "df_filtered.describe()"
   ]
  },
  {
   "cell_type": "code",
   "execution_count": null,
   "id": "0606cd97",
   "metadata": {},
   "outputs": [],
   "source": [
    "### Task2: Remove rows where sensor1_min is less than 50.0 or greater than 35.0"
   ]
  },
  {
   "cell_type": "code",
   "execution_count": 10,
   "id": "af2fc286",
   "metadata": {},
   "outputs": [],
   "source": [
    "# Get the min and max of 'sensor1_min'\n",
    "min_value = df_filtered['sensor1_min'].min()\n",
    "max_value = df_filtered['sensor1_min'].max()\n",
    "# Filter the dataframe to keep only rows where 'value' > 0.0"
   ]
  },
  {
   "cell_type": "code",
   "execution_count": 11,
   "id": "0ec2c95d",
   "metadata": {},
   "outputs": [
    {
     "data": {
      "text/plain": [
       "(np.float64(20.0), np.float64(98.0))"
      ]
     },
     "execution_count": 11,
     "metadata": {},
     "output_type": "execute_result"
    }
   ],
   "source": [
    "min_value, max_value"
   ]
  },
  {
   "cell_type": "code",
   "execution_count": 23,
   "id": "77288244",
   "metadata": {},
   "outputs": [],
   "source": [
    "# remove some rows where sensor1_min is less than 50.0 or greater than 35.0\n",
    "df_filtered = df_filtered[(df_filtered['sensor1_min'] >= 50.0) | (df_filtered['sensor1_min'] <= 35.0)]\n"
   ]
  },
  {
   "cell_type": "code",
   "execution_count": 24,
   "id": "0b50741d",
   "metadata": {},
   "outputs": [
    {
     "data": {
      "text/plain": [
       "(380, 10)"
      ]
     },
     "execution_count": 24,
     "metadata": {},
     "output_type": "execute_result"
    }
   ],
   "source": [
    "df_filtered.shape"
   ]
  },
  {
   "cell_type": "code",
   "execution_count": 27,
   "id": "470c6bdb",
   "metadata": {},
   "outputs": [],
   "source": [
    "# Task3: remove rows based on filtering condition on time\n",
    "# For example, remove rows where time is less than a certain threshold\n",
    "threshold_time = 1743964190  # example threshold\n",
    "df_filtered = df_filtered[df_filtered['time'] >= threshold_time]\n"
   ]
  },
  {
   "cell_type": "code",
   "execution_count": 28,
   "id": "415cdd5d",
   "metadata": {},
   "outputs": [
    {
     "data": {
      "text/plain": [
       "(365, 10)"
      ]
     },
     "execution_count": 28,
     "metadata": {},
     "output_type": "execute_result"
    }
   ],
   "source": [
    "df_filtered.shape"
   ]
  },
  {
   "cell_type": "code",
   "execution_count": null,
   "id": "82a1ba6c",
   "metadata": {},
   "outputs": [],
   "source": []
  }
 ],
 "metadata": {
  "kernelspec": {
   "display_name": "anomaly",
   "language": "python",
   "name": "python3"
  },
  "language_info": {
   "codemirror_mode": {
    "name": "ipython",
    "version": 3
   },
   "file_extension": ".py",
   "mimetype": "text/x-python",
   "name": "python",
   "nbconvert_exporter": "python",
   "pygments_lexer": "ipython3",
   "version": "3.12.10"
  }
 },
 "nbformat": 4,
 "nbformat_minor": 5
}
